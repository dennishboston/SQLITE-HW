{
 "cells": [
  {
   "cell_type": "code",
   "execution_count": 9,
   "metadata": {
    "collapsed": true
   },
   "outputs": [],
   "source": [
    "import pandas as pd\n",
    "import numpy as np\n",
    "import csv\n",
    "from sqlalchemy import create_engine\n",
    "from sqlalchemy import Column, Integer, String, Float, Date, Numeric, Text, Date\n",
    "from sqlalchemy.ext.declarative import declarative_base\n",
    "Base = declarative_base()"
   ]
  },
  {
   "cell_type": "code",
   "execution_count": 10,
   "metadata": {
    "collapsed": true
   },
   "outputs": [],
   "source": [
    "clean_measurements = pd.read_csv('clean_measurements.csv')\n",
    "clean_stations = pd.read_csv('clean_stations.csv')"
   ]
  },
  {
   "cell_type": "code",
   "execution_count": 11,
   "metadata": {
    "collapsed": true
   },
   "outputs": [],
   "source": [
    "class Station(Base):\n",
    "  __tablename__ = \"clean_stations\"\n",
    "  station = Column(String, primary_key=True)\n",
    "  name = Column(String)\n",
    "  lattitude = Column(Float)\n",
    "  longitude = Column(Float)\n",
    "  elevation = Column(Float)"
   ]
  },
  {
   "cell_type": "code",
   "execution_count": 12,
   "metadata": {
    "collapsed": true
   },
   "outputs": [],
   "source": [
    "class Measurement(Base):\n",
    "  __tablename__ = \"clean_measurements\"\n",
    "  station = Column(String, primary_key=True)\n",
    "  date = Column(String)\n",
    "  prcp = Column(Float)\n",
    "  tobs = Column(Integer)"
   ]
  },
  {
   "cell_type": "code",
   "execution_count": 13,
   "metadata": {},
   "outputs": [],
   "source": [
    "# Create Database Connection\n",
    "engine = create_engine('sqlite:///hawaii.sqlite')\n",
    "Base.metadata.create_all(engine)"
   ]
  },
  {
   "cell_type": "code",
   "execution_count": 14,
   "metadata": {
    "collapsed": true
   },
   "outputs": [],
   "source": [
    "from sqlalchemy.orm import Session\n",
    "session = Session(bind=engine)"
   ]
  },
  {
   "cell_type": "code",
   "execution_count": 8,
   "metadata": {},
   "outputs": [
    {
     "name": "stdout",
     "output_type": "stream",
     "text": [
      "0                      WAIKIKI 717.2, HI US\n",
      "1                      KANEOHE 838.1, HI US\n",
      "2    KUALOA RANCH HEADQUARTERS 886.9, HI US\n",
      "3                         PEARL CITY, HI US\n",
      "4                UPPER WAHIAWA 874.3, HI US\n",
      "5        WAIMANALO EXPERIMENTAL FARM, HI US\n",
      "6                       WAIHEE 837.5, HI US\n",
      "7         HONOLULU OBSERVATORY 702.2, HI US\n",
      "8              MANOA LYON ARBO 785.2, HI US\n",
      "Name: name, dtype: object\n",
      "0                      WAIKIKI 717.2, HI US\n",
      "1                      KANEOHE 838.1, HI US\n",
      "2    KUALOA RANCH HEADQUARTERS 886.9, HI US\n",
      "3                         PEARL CITY, HI US\n",
      "4                UPPER WAHIAWA 874.3, HI US\n",
      "5        WAIMANALO EXPERIMENTAL FARM, HI US\n",
      "6                       WAIHEE 837.5, HI US\n",
      "7         HONOLULU OBSERVATORY 702.2, HI US\n",
      "8              MANOA LYON ARBO 785.2, HI US\n",
      "Name: name, dtype: object\n",
      "0                      WAIKIKI 717.2, HI US\n",
      "1                      KANEOHE 838.1, HI US\n",
      "2    KUALOA RANCH HEADQUARTERS 886.9, HI US\n",
      "3                         PEARL CITY, HI US\n",
      "4                UPPER WAHIAWA 874.3, HI US\n",
      "5        WAIMANALO EXPERIMENTAL FARM, HI US\n",
      "6                       WAIHEE 837.5, HI US\n",
      "7         HONOLULU OBSERVATORY 702.2, HI US\n",
      "8              MANOA LYON ARBO 785.2, HI US\n",
      "Name: name, dtype: object\n",
      "0                      WAIKIKI 717.2, HI US\n",
      "1                      KANEOHE 838.1, HI US\n",
      "2    KUALOA RANCH HEADQUARTERS 886.9, HI US\n",
      "3                         PEARL CITY, HI US\n",
      "4                UPPER WAHIAWA 874.3, HI US\n",
      "5        WAIMANALO EXPERIMENTAL FARM, HI US\n",
      "6                       WAIHEE 837.5, HI US\n",
      "7         HONOLULU OBSERVATORY 702.2, HI US\n",
      "8              MANOA LYON ARBO 785.2, HI US\n",
      "Name: name, dtype: object\n",
      "0                      WAIKIKI 717.2, HI US\n",
      "1                      KANEOHE 838.1, HI US\n",
      "2    KUALOA RANCH HEADQUARTERS 886.9, HI US\n",
      "3                         PEARL CITY, HI US\n",
      "4                UPPER WAHIAWA 874.3, HI US\n",
      "5        WAIMANALO EXPERIMENTAL FARM, HI US\n",
      "6                       WAIHEE 837.5, HI US\n",
      "7         HONOLULU OBSERVATORY 702.2, HI US\n",
      "8              MANOA LYON ARBO 785.2, HI US\n",
      "Name: name, dtype: object\n",
      "0                      WAIKIKI 717.2, HI US\n",
      "1                      KANEOHE 838.1, HI US\n",
      "2    KUALOA RANCH HEADQUARTERS 886.9, HI US\n",
      "3                         PEARL CITY, HI US\n",
      "4                UPPER WAHIAWA 874.3, HI US\n",
      "5        WAIMANALO EXPERIMENTAL FARM, HI US\n",
      "6                       WAIHEE 837.5, HI US\n",
      "7         HONOLULU OBSERVATORY 702.2, HI US\n",
      "8              MANOA LYON ARBO 785.2, HI US\n",
      "Name: name, dtype: object\n"
     ]
    }
   ],
   "source": [
    "station = session.query(Station)\n",
    "for station in clean_stations:\n",
    "  print(clean_stations.name)"
   ]
  },
  {
   "cell_type": "code",
   "execution_count": null,
   "metadata": {
    "collapsed": true
   },
   "outputs": [],
   "source": []
  }
 ],
 "metadata": {
  "kernelspec": {
   "display_name": "Python 3",
   "language": "python",
   "name": "python3"
  },
  "language_info": {
   "codemirror_mode": {
    "name": "ipython",
    "version": 3
   },
   "file_extension": ".py",
   "mimetype": "text/x-python",
   "name": "python",
   "nbconvert_exporter": "python",
   "pygments_lexer": "ipython3",
   "version": "3.6.3"
  }
 },
 "nbformat": 4,
 "nbformat_minor": 2
}
